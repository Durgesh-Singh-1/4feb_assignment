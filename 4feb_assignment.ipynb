{
 "cells": [
  {
   "cell_type": "code",
   "execution_count": 1,
   "id": "8a110e50-d7e6-4f96-ae97-44b4f992b1f6",
   "metadata": {},
   "outputs": [],
   "source": [
    "# 1 ans :-"
   ]
  },
  {
   "cell_type": "code",
   "execution_count": 2,
   "id": "adb44c09-b993-42b9-8dca-d9e1007400e3",
   "metadata": {},
   "outputs": [],
   "source": [
    "players = [('Sachin Tendulkar',34567),('Ricky Poting',27483),('Jack kallis',25534),('Virat Kohli',24936)]"
   ]
  },
  {
   "cell_type": "code",
   "execution_count": 4,
   "id": "2dbf3b5a-51d9-422f-9a55-f755b0a7dacb",
   "metadata": {},
   "outputs": [
    {
     "name": "stdout",
     "output_type": "stream",
     "text": [
      "[('Virat Kohli', 24936), ('Jack kallis', 25534), ('Ricky Poting', 27483), ('Sachin Tendulkar', 34567)]\n"
     ]
    }
   ],
   "source": [
    "players.sort(key = lambda x : x[1])\n",
    "print(players)"
   ]
  },
  {
   "cell_type": "code",
   "execution_count": 5,
   "id": "b5412929-0854-42dc-80ea-5469ea6f25fe",
   "metadata": {},
   "outputs": [],
   "source": [
    "# 2 ans :-"
   ]
  },
  {
   "cell_type": "code",
   "execution_count": 6,
   "id": "e88dc361-14e4-4ffb-b4af-b7bda8aedc19",
   "metadata": {},
   "outputs": [],
   "source": [
    "l = [1,2,3,4,5,6,7,8,9,10]"
   ]
  },
  {
   "cell_type": "code",
   "execution_count": 13,
   "id": "47eeac40-1088-4563-ad23-002c9581de05",
   "metadata": {},
   "outputs": [
    {
     "name": "stdout",
     "output_type": "stream",
     "text": [
      "[1, 4, 9, 16, 25, 36, 49, 64, 81, 100]\n"
     ]
    }
   ],
   "source": [
    "squares = list(map(lambda x : x**2,l))\n",
    "print(squares)"
   ]
  },
  {
   "cell_type": "code",
   "execution_count": 16,
   "id": "4f940a71-c218-405f-8e40-013325a35e10",
   "metadata": {},
   "outputs": [],
   "source": [
    "# 3 .ans :-"
   ]
  },
  {
   "cell_type": "code",
   "execution_count": 18,
   "id": "844d1c9a-a857-4043-ac8c-47e15e55ed91",
   "metadata": {},
   "outputs": [
    {
     "name": "stdout",
     "output_type": "stream",
     "text": [
      "('1', '2', '3', '4', '5', '6', '7', '8', '9', '10')\n"
     ]
    }
   ],
   "source": [
    "number = [1,2,3,4,5,6,7,8,9,10]\n",
    "string = tuple(map(lambda x : str(x), number))\n",
    "print(string)"
   ]
  },
  {
   "cell_type": "code",
   "execution_count": 19,
   "id": "c1d3e730-5587-4335-b0e0-97a27924b6aa",
   "metadata": {},
   "outputs": [],
   "source": [
    "# 4 ans :-"
   ]
  },
  {
   "cell_type": "code",
   "execution_count": 25,
   "id": "ad5d3dc8-69ef-4a01-a576-5590a562112c",
   "metadata": {},
   "outputs": [
    {
     "name": "stdout",
     "output_type": "stream",
     "text": [
      "15511210043330985984000000\n"
     ]
    }
   ],
   "source": [
    "from functools import reduce \n",
    "numbers = list(range(1,26))\n",
    "product = reduce(lambda x ,y : x*y , numbers)\n",
    "print(product)"
   ]
  },
  {
   "cell_type": "code",
   "execution_count": 26,
   "id": "32db2f56-99b0-44be-9cc9-7608b55c2053",
   "metadata": {},
   "outputs": [],
   "source": [
    "# 5 ans :-"
   ]
  },
  {
   "cell_type": "code",
   "execution_count": 33,
   "id": "e9b1a53f-81eb-48c5-b4c2-399c643b6f57",
   "metadata": {},
   "outputs": [
    {
     "name": "stdout",
     "output_type": "stream",
     "text": [
      "[2, 3, 6, 27, 60, 90, 120, 46]\n"
     ]
    }
   ],
   "source": [
    "num = [2, 3,6, 27,60,90, 120,55,46]\n",
    "div_by_2_and_3 = list(filter(lambda x : x % 2 ==0 or x % 3 == 0,num))\n",
    "print(div_by_2_and_3)"
   ]
  },
  {
   "cell_type": "code",
   "execution_count": 34,
   "id": "7604dbf1-1a3c-4753-8eed-395a55634b78",
   "metadata": {},
   "outputs": [],
   "source": [
    "# 6 ans  :-"
   ]
  },
  {
   "cell_type": "code",
   "execution_count": 36,
   "id": "a5b7e831-eeca-441f-8940-596f704a133c",
   "metadata": {},
   "outputs": [
    {
     "name": "stdout",
     "output_type": "stream",
     "text": [
      "['php', 'aba', 'radar']\n"
     ]
    }
   ],
   "source": [
    "string = ['python','php','aba','radar','leve']\n",
    "palindromes = list(filter(lambda x : x == x[::-1],string))\n",
    "print(palindromes)"
   ]
  },
  {
   "cell_type": "code",
   "execution_count": null,
   "id": "8f899651-5f6e-44ae-abab-f55b9e5365f3",
   "metadata": {},
   "outputs": [],
   "source": []
  }
 ],
 "metadata": {
  "kernelspec": {
   "display_name": "Python 3 (ipykernel)",
   "language": "python",
   "name": "python3"
  },
  "language_info": {
   "codemirror_mode": {
    "name": "ipython",
    "version": 3
   },
   "file_extension": ".py",
   "mimetype": "text/x-python",
   "name": "python",
   "nbconvert_exporter": "python",
   "pygments_lexer": "ipython3",
   "version": "3.10.8"
  }
 },
 "nbformat": 4,
 "nbformat_minor": 5
}
